{
 "cells": [
  {
   "cell_type": "markdown",
   "metadata": {},
   "source": [
    "**Задания от 13.09.20**\n",
    "*Д/з:* доделать инвертирующую функцую, пересомтреть код."
   ]
  },
  {
   "cell_type": "code",
   "execution_count": 4,
   "metadata": {},
   "outputs": [],
   "source": [
    "def sum_of_a_b_points_compare_with_c(dict, a, b, c):\n",
    "    \"\"\"Находим сумму 'a' и 'b'. Сравниваем эту сумму с 'c'\"\"\"\n",
    "    result = exam_points[a] + exam_points[b]\n",
    "    print('Points of 2 students ==', result)\n",
    "    if result < exam_points[c]:\n",
    "        print(c, 'has more points!')\n",
    "    else:\n",
    "        print(\"{} and {} has more points than {}\".format(a, b, c))  \n",
    "    \n"
   ]
  },
  {
   "cell_type": "code",
   "execution_count": 5,
   "metadata": {},
   "outputs": [],
   "source": [
    "exam_points = {'Sonya' : 18, 'Kate' : 222, 'Ann' : 11,}\n",
    "exam_points['Liza'] = exam_points['Kate']"
   ]
  },
  {
   "cell_type": "code",
   "execution_count": 6,
   "metadata": {},
   "outputs": [
    {
     "name": "stdout",
     "output_type": "stream",
     "text": [
      "Points of 2 students == 233\n",
      "Kate and Ann has more points than Liza\n"
     ]
    }
   ],
   "source": [
    "sum_of_a_b_points_compare_with_c(exam_points, 'Kate', 'Ann', 'Liza')"
   ]
  },
  {
   "cell_type": "markdown",
   "metadata": {},
   "source": [
    "*Задание 2* - инвертирование словаря. Повторяющиееся значения добавляем в список"
   ]
  },
  {
   "cell_type": "code",
   "execution_count": 9,
   "metadata": {},
   "outputs": [],
   "source": [
    "def inverse_dict(dict):\n",
    "    \"\"\"инвертируем словарь, дублирующиеся элементы добавляем в список\"\"\"\n",
    "    result_dict = {}\n",
    "    for key, value in dict.items():\n",
    "        if not value in result_dict.keys():\n",
    "            result_dict[value] = [key]\n",
    "        else:    \n",
    "            result_dict[value].append(key)\n",
    "    return result_dict "
   ]
  },
  {
   "cell_type": "code",
   "execution_count": 11,
   "metadata": {
    "scrolled": false
   },
   "outputs": [
    {
     "data": {
      "text/plain": [
       "{18: ['Sonya'], 222: ['Kate', 'Liza'], 11: ['Ann']}"
      ]
     },
     "execution_count": 11,
     "metadata": {},
     "output_type": "execute_result"
    }
   ],
   "source": [
    "inverse_dict(exam_points) "
   ]
  },
  {
   "cell_type": "code",
   "execution_count": null,
   "metadata": {},
   "outputs": [],
   "source": []
  }
 ],
 "metadata": {
  "kernelspec": {
   "display_name": "Python 3",
   "language": "python",
   "name": "python3"
  },
  "language_info": {
   "codemirror_mode": {
    "name": "ipython",
    "version": 3
   },
   "file_extension": ".py",
   "mimetype": "text/x-python",
   "name": "python",
   "nbconvert_exporter": "python",
   "pygments_lexer": "ipython3",
   "version": "3.7.6"
  }
 },
 "nbformat": 4,
 "nbformat_minor": 4
}
